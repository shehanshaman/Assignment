{
 "cells": [
  {
   "cell_type": "code",
   "execution_count": 88,
   "metadata": {},
   "outputs": [],
   "source": [
    "import csv\n",
    "import pandas as pd\n",
    "\n",
    "with open('trainset.txt', 'r') as in_file:\n",
    "    stripped = []\n",
    "    for line in in_file:\n",
    "        sen = line.strip()\n",
    "        stripped.append(sen)\n",
    "        \n",
    "    lines = (line.split(\"\\t\") for line in stripped if line)\n",
    "    with open('log.csv', 'w') as out_file:\n",
    "        writer = csv.writer(out_file)\n",
    "        writer.writerow(('class', 'title','date','body'))\n",
    "        writer.writerows(lines)"
   ]
  },
  {
   "cell_type": "code",
   "execution_count": 89,
   "metadata": {
    "scrolled": true
   },
   "outputs": [],
   "source": [
    "fileName = 'log.csv'\n",
    "data = pd.read_csv(fileName)\n",
    "Y = data['class']\n",
    "data.drop(['class'], axis=1, inplace=True)\n",
    "X = data['title'] + \" \" + data['date'] + \" \" + data['body'] \n",
    "#print(X)"
   ]
  },
  {
   "cell_type": "code",
   "execution_count": 90,
   "metadata": {},
   "outputs": [],
   "source": [
    "from nltk.stem.porter import PorterStemmer # for stemming\n",
    "from sklearn.feature_extraction.text import CountVectorizer # for extract words frequncies \n",
    "\n",
    "porter_stemmer = PorterStemmer()\n",
    "def stemming_tokenizer(str_input):\n",
    "    words = re.sub(r\"[^a-z]\", \" \", str_input).lower().split()\n",
    "    words = [porter_stemmer.stem(word) for word in words]\n",
    "    return words"
   ]
  },
  {
   "cell_type": "code",
   "execution_count": 138,
   "metadata": {},
   "outputs": [
    {
     "name": "stdout",
     "output_type": "stream",
     "text": [
      "     aa  ab  abandon  abid  abl  abm  abnorm  abolish  abov  abroad   ...    \\\n",
      "0     0   0        0     0    0    0       0        0     0       0   ...     \n",
      "1     0   0        0     0    0    0       0        0     0       0   ...     \n",
      "2     0   0        0     0    0    0       0        0     0       0   ...     \n",
      "3     0   0        0     0    0    0       0        0     0       0   ...     \n",
      "4     0   0        0     0    0    0       0        0     0       0   ...     \n",
      "5     0   0        0     0    0    0       0        0     0       0   ...     \n",
      "6     0   0        0     0    0    0       0        0     0       0   ...     \n",
      "7     0   0        0     0    0    0       0        0     0       0   ...     \n",
      "8     0   0        0     0    0    0       0        0     0       0   ...     \n",
      "9     0   0        0     0    0    0       0        0     0       0   ...     \n",
      "10    0   0        0     0    0    0       0        0     0       0   ...     \n",
      "11    0   0        0     0    0    0       0        0     0       0   ...     \n",
      "12    0   0        0     0    0    0       0        0     0       0   ...     \n",
      "13    0   0        0     0    0    0       0        0     0       0   ...     \n",
      "14    0   0        0     0    0    0       0        0     0       0   ...     \n",
      "15    0   0        0     0    0    0       0        0     0       0   ...     \n",
      "16    0   0        0     0    0    0       0        0     0       0   ...     \n",
      "17    0   0        0     0    0    0       0        0     0       0   ...     \n",
      "18    0   0        0     0    0    0       0        0     0       0   ...     \n",
      "19    0   0        0     0    0    0       0        0     0       0   ...     \n",
      "20    0   0        0     0    0    0       0        0     0       0   ...     \n",
      "21    0   0        0     0    0    0       0        0     0       0   ...     \n",
      "22    0   0        0     0    0    0       0        0     0       0   ...     \n",
      "23    0   0        0     0    0    0       0        0     0       0   ...     \n",
      "24    0   0        0     0    1    0       0        0     0       0   ...     \n",
      "25    0   0        0     0    0    0       0        0     0       0   ...     \n",
      "26    0   0        0     0    0    0       0        0     0       0   ...     \n",
      "27    0   0        0     0    0    0       0        0     0       0   ...     \n",
      "28    0   0        0     0    0    0       0        0     0       0   ...     \n",
      "29    0   0        0     0    0    0       0        0     1       0   ...     \n",
      "..   ..  ..      ...   ...  ...  ...     ...      ...   ...     ...   ...     \n",
      "170   0   0        0     0    0    0       0        0     0       0   ...     \n",
      "171   0   0        0     0    0    0       0        0     0       0   ...     \n",
      "172   0   0        0     0    0    0       0        0     0       0   ...     \n",
      "173   0   0        0     0    0    0       0        0     0       0   ...     \n",
      "174   0   0        0     0    0    0       0        0     0       0   ...     \n",
      "175   1   2        0     0    0    0       0        0     0       0   ...     \n",
      "176   0   0        0     0    0    0       0        0     0       0   ...     \n",
      "177   0   0        0     0    0    0       0        0     0       0   ...     \n",
      "178   0   0        0     0    0    0       0        0     0       0   ...     \n",
      "179   0   0        0     0    0    0       0        0     0       0   ...     \n",
      "180   0   0        0     0    0    0       0        0     0       0   ...     \n",
      "181   0   0        0     0    0    0       0        0     0       0   ...     \n",
      "182   0   1        0     0    0    0       0        0     0       0   ...     \n",
      "183   0   0        0     0    0    0       1        0     0       0   ...     \n",
      "184   0   0        0     0    0    0       0        0     0       0   ...     \n",
      "185   0   0        0     0    0    0       0        0     0       0   ...     \n",
      "186   0   0        0     0    0    0       0        0     3       0   ...     \n",
      "187   0   0        0     0    0    0       0        0     0       0   ...     \n",
      "188   0   0        0     0    0    0       0        0     0       0   ...     \n",
      "189   0   0        0     0    0    0       0        0     0       0   ...     \n",
      "190   0   0        0     0    0    0       0        0     0       0   ...     \n",
      "191   0   0        0     0    0    0       0        0     0       0   ...     \n",
      "192   0   0        0     0    0    0       0        0     0       0   ...     \n",
      "193   0   0        0     0    0    0       0        0     0       0   ...     \n",
      "194   0   0        0     0    0    0       0        0     0       0   ...     \n",
      "195   0   0        0     0    0    0       0        0     0       0   ...     \n",
      "196   0   0        0     0    0    0       0        0     0       0   ...     \n",
      "197   0   0        0     0    0    0       0        0     0       0   ...     \n",
      "198   0   0        0     0    0    0       0        0     0       0   ...     \n",
      "199   0   0        0     0    0    0       0        0     0       0   ...     \n",
      "\n",
      "     zambian  zccm  zealand  zero  zhejiang  zimbabw  zinc  zone  zurich  \\\n",
      "0          0     0        0     0         0        0     0     0       0   \n",
      "1          0     0        0     0         0        0     0     0       0   \n",
      "2          0     0        0     0         0        0     0     0       0   \n",
      "3          0     0        0     0         0        0     0     0       0   \n",
      "4          0     0        0     0         0        0     0     0       0   \n",
      "5          0     0        0     0         0        0     0     0       0   \n",
      "6          0     0        0     0         0        0     0     0       0   \n",
      "7          0     0        0     0         0        0     0     0       0   \n",
      "8          0     0        0     0         0        0     0     0       0   \n",
      "9          0     0        0     0         0        1     0     0       0   \n",
      "10         0     0        0     0         0        0     0     0       0   \n",
      "11         0     0        0     0         0        0     2     0       0   \n",
      "12         0     0        0     0         0        0     0     0       0   \n",
      "13         0     0        0     0         0        0     0     0       0   \n",
      "14         0     0        0     0         0        0     0     0       0   \n",
      "15         0     0        0     0         0        0     0     0       0   \n",
      "16         0     0        0     0         0        0     0     0       0   \n",
      "17         0     0        0     0         0        0     0     0       0   \n",
      "18         0     0        0     0         0        0     0     1       0   \n",
      "19         0     0        0     0         0        0     0     0       0   \n",
      "20         0     0        0     0         0        0     0     0       1   \n",
      "21         0     0        0     0         0        0     0     0       0   \n",
      "22         0     0        0     0         0        0     0     0       0   \n",
      "23         0     0        0     0         0        0     0     0       0   \n",
      "24         0     0        0     0         0        0     0     0       0   \n",
      "25         0     0        0     0         0        0     0     0       0   \n",
      "26         0     0        0     0         0        0     0     0       0   \n",
      "27         0     0        0     0         0        0     0     0       0   \n",
      "28         0     0        0     0         0        0     1     0       0   \n",
      "29         0     0        0     0         0        0     0     0       0   \n",
      "..       ...   ...      ...   ...       ...      ...   ...   ...     ...   \n",
      "170        0     0        0     0         0        0     0     0       0   \n",
      "171        0     0        0     0         0        0     0     0       0   \n",
      "172        0     0        0     0         0        0     2     0       0   \n",
      "173        0     0        0     0         0        0     0     0       0   \n",
      "174        0     0        0     0         0        0     0     0       0   \n",
      "175        0     0        0     0         0        0     0     0       0   \n",
      "176        0     0        0     0         0        0     0     0       0   \n",
      "177        0     0        0     0         0        0     0     0       0   \n",
      "178        0     0        0     0         0        0     0     0       0   \n",
      "179        0     0        0     0         0        0     0     0       0   \n",
      "180        0     0        0     0         0        0     0     0       0   \n",
      "181        0     0        0     0         0        0     0     0       0   \n",
      "182        0     0        0     0         0        0     0     0       0   \n",
      "183        0     0        0     0         0        0     0     0       0   \n",
      "184        0     0        0     0         0        0     0     0       0   \n",
      "185        0     0        0     0         0        0     0     0       0   \n",
      "186        0     0        0     0         0        0     0     0       0   \n",
      "187        0     0        0     0         1        0     0     0       0   \n",
      "188        0     0        0     0         0        0     0     0       0   \n",
      "189        0     0        0     0         0        0     0     0       0   \n",
      "190        0     0        0     0         0        0     2     0       0   \n",
      "191        0     0        0     0         0        0     0     0       0   \n",
      "192        0     0        0     0         0        0     0     0       0   \n",
      "193        0     0        0     0         0        0     0     0       0   \n",
      "194        0     0        0     0         0        0     0     0       0   \n",
      "195        0     0        0     0         0        0     0     0       0   \n",
      "196        0     0        0     0         0        0     0     0       0   \n",
      "197        0     0        0     0         0        0     0     0       0   \n",
      "198        0     0        0     0         0        0     0     0       0   \n",
      "199        0     0        0     0         0        0     0     0       0   \n",
      "\n",
      "     zuyuan  \n",
      "0         0  \n",
      "1         0  \n",
      "2         0  \n",
      "3         0  \n",
      "4         0  \n",
      "5         0  \n",
      "6         0  \n",
      "7         0  \n",
      "8         0  \n",
      "9         0  \n",
      "10        0  \n",
      "11        0  \n",
      "12        0  \n",
      "13        0  \n",
      "14        0  \n",
      "15        0  \n",
      "16        0  \n",
      "17        0  \n",
      "18        0  \n",
      "19        0  \n",
      "20        0  \n",
      "21        0  \n",
      "22        0  \n",
      "23        0  \n",
      "24        0  \n",
      "25        0  \n",
      "26        0  \n",
      "27        0  \n",
      "28        0  \n",
      "29        0  \n",
      "..      ...  \n",
      "170       0  \n",
      "171       0  \n",
      "172       0  \n",
      "173       0  \n",
      "174       0  \n",
      "175       0  \n",
      "176       0  \n",
      "177       0  \n",
      "178       0  \n",
      "179       0  \n",
      "180       0  \n",
      "181       0  \n",
      "182       0  \n",
      "183       0  \n",
      "184       0  \n",
      "185       0  \n",
      "186       0  \n",
      "187       1  \n",
      "188       0  \n",
      "189       0  \n",
      "190       0  \n",
      "191       0  \n",
      "192       0  \n",
      "193       0  \n",
      "194       0  \n",
      "195       0  \n",
      "196       0  \n",
      "197       0  \n",
      "198       0  \n",
      "199       0  \n",
      "\n",
      "[200 rows x 3150 columns]\n"
     ]
    }
   ],
   "source": [
    "import re\n",
    "\n",
    "vec = CountVectorizer(stop_words='english', tokenizer=stemming_tokenizer)\n",
    "\n",
    "matrix = vec.fit_transform(X)\n",
    "\n",
    "results = pd.DataFrame(matrix.toarray(), columns=vec.get_feature_names())\n",
    "print(results)"
   ]
  },
  {
   "cell_type": "code",
   "execution_count": 92,
   "metadata": {},
   "outputs": [
    {
     "data": {
      "text/plain": [
       "1.0"
      ]
     },
     "execution_count": 92,
     "metadata": {},
     "output_type": "execute_result"
    }
   ],
   "source": [
    "from sklearn.naive_bayes import MultinomialNB\n",
    "\n",
    "clf = MultinomialNB().fit(matrix, Y)\n",
    "\n",
    "predicted = clf.predict(matrix)\n",
    "np.mean(predicted == Y)\n",
    "\n",
    "# from sklearn.pipeline import Pipeline\n",
    "# from sklearn.feature_extraction.text import TfidfTransformer\n",
    "\n",
    "# text_clf = Pipeline([('vect', CountVectorizer()),('tfidf', TfidfTransformer()),('clf', MultinomialNB()),])\n",
    "# text_clf = text_clf.fit(X, Y)\n"
   ]
  },
  {
   "cell_type": "code",
   "execution_count": 95,
   "metadata": {},
   "outputs": [
    {
     "name": "stdout",
     "output_type": "stream",
     "text": [
      "[-1  1 -1  1 -1 -1  1  1  1  1 -1 -1 -1 -1  1  1  1  1  1  1  1  1 -1  1\n",
      " -1 -1  1 -1  1  1  1 -1 -1 -1 -1  1  1  1 -1  1 -1  1 -1  1  1  1 -1  1\n",
      "  1 -1  1  1  1 -1  1  1  1  1  1  1 -1 -1 -1  1  1  1  1]\n"
     ]
    },
    {
     "data": {
      "text/plain": [
       "0.9701492537313433"
      ]
     },
     "execution_count": 95,
     "metadata": {},
     "output_type": "execute_result"
    }
   ],
   "source": [
    "from sklearn.model_selection import train_test_split, cross_val_score\n",
    "\n",
    "nclf=MultinomialNB() # clf is a classifier.\n",
    "#nclf.fit(X,Y)\n",
    "X_train , X_test , Y_train , Y_test = train_test_split(matrix, Y, test_size =0.333,random_state =0)\n",
    "#nclf.fit(X_train ,Y_train) # clf is a classifier.\n",
    "Y_pred = nclf.fit(X_train , Y_train ).predict(X_test)\n",
    "#print(Y_pred)\n",
    "np.mean(Y_pred == Y_test)"
   ]
  },
  {
   "cell_type": "code",
   "execution_count": 67,
   "metadata": {},
   "outputs": [
    {
     "name": "stdout",
     "output_type": "stream",
     "text": [
      "Training Accuracy(Training set)  :  1.0\n"
     ]
    }
   ],
   "source": [
    "print('Training Accuracy(Training set)  : ',nclf.score(X_train,Y_train)) # Training accuracy\n"
   ]
  },
  {
   "cell_type": "code",
   "execution_count": 68,
   "metadata": {},
   "outputs": [
    {
     "name": "stdout",
     "output_type": "stream",
     "text": [
      "[[23  0]\n",
      " [ 2 42]]\n"
     ]
    }
   ],
   "source": [
    "#Confution matrix\n",
    "from sklearn import metrics\n",
    "\n",
    "print(metrics.confusion_matrix(Y_test, Y_pred)) #confusion matrix"
   ]
  },
  {
   "cell_type": "code",
   "execution_count": 70,
   "metadata": {},
   "outputs": [
    {
     "name": "stdout",
     "output_type": "stream",
     "text": [
      "             precision    recall  f1-score   support\n",
      "\n",
      "         +1       0.92      1.00      0.96        23\n",
      "         -1       1.00      0.95      0.98        44\n",
      "\n",
      "avg / total       0.97      0.97      0.97        67\n",
      "\n"
     ]
    }
   ],
   "source": [
    "#Classification report\n",
    "from sklearn.metrics import classification_report\n",
    "\n",
    "target_names =[\"+1\", \"-1\"]\n",
    "print(classification_report(Y_test, Y_pred, target_names=target_names)) #Actual , Prediction"
   ]
  },
  {
   "cell_type": "code",
   "execution_count": 33,
   "metadata": {},
   "outputs": [],
   "source": [
    "# from sklearn.linear_model import SGDClassifier\n",
    "\n",
    "# text_clf_svm = Pipeline([('vect', CountVectorizer()),('tfidf', TfidfTransformer()),('clf-svm', SGDClassifier(loss='hinge', penalty='l2',alpha=1e-3, n_iter=5, random_state=42)),])\n",
    "# text_clf_svm = text_clf_svm.fit(twenty_train.data, twenty_train.target)"
   ]
  },
  {
   "cell_type": "code",
   "execution_count": 116,
   "metadata": {},
   "outputs": [],
   "source": [
    "#Test data set\n",
    "\n",
    "with open('testsetwithoutlabels.txt', 'r') as in_file:\n",
    "    stripped = (line.strip() for line in in_file)\n",
    "    lines = (line.split(\"\\t\") for line in stripped if line)\n",
    "    with open('test.csv', 'w') as out_file:\n",
    "        writer = csv.writer(out_file)\n",
    "        writer.writerow(('title','date','body'))\n",
    "        writer.writerows(lines)"
   ]
  },
  {
   "cell_type": "code",
   "execution_count": 148,
   "metadata": {
    "scrolled": true
   },
   "outputs": [],
   "source": [
    "test_file = 'test.csv'\n",
    "test_data = pd.read_csv(test_file)\n",
    "X_test = test_data['title'] + \" \" + test_data['date'] + \" \" + test_data['body'] \n",
    "#print(X_test)\n",
    "\n",
    "vec_test = CountVectorizer(stop_words='english', tokenizer=stemming_tokenizer)\n",
    "\n",
    "matrix_test = vec_test.fit_transform(X_test)\n",
    "\n",
    "results_test = pd.DataFrame(matrix_test.toarray(), columns=vec_test.get_feature_names())\n",
    "#print(results_test)\n",
    "#print(matrix_test)"
   ]
  },
  {
   "cell_type": "code",
   "execution_count": 153,
   "metadata": {
    "scrolled": true
   },
   "outputs": [
    {
     "ename": "ValueError",
     "evalue": "dimension mismatch",
     "output_type": "error",
     "traceback": [
      "\u001b[1;31m---------------------------------------------------------------------------\u001b[0m",
      "\u001b[1;31mValueError\u001b[0m                                Traceback (most recent call last)",
      "\u001b[1;32m<ipython-input-153-64d70190f8af>\u001b[0m in \u001b[0;36m<module>\u001b[1;34m()\u001b[0m\n\u001b[0;32m     11\u001b[0m \u001b[1;31m# text_clf = text_clf.fit(X, Y)\u001b[0m\u001b[1;33m\u001b[0m\u001b[1;33m\u001b[0m\u001b[0m\n\u001b[0;32m     12\u001b[0m \u001b[1;33m\u001b[0m\u001b[0m\n\u001b[1;32m---> 13\u001b[1;33m \u001b[0mpredicted_train\u001b[0m \u001b[1;33m=\u001b[0m \u001b[0mclf\u001b[0m\u001b[1;33m.\u001b[0m\u001b[0mpredict\u001b[0m\u001b[1;33m(\u001b[0m\u001b[0mmatrix_test\u001b[0m\u001b[1;33m)\u001b[0m\u001b[1;33m\u001b[0m\u001b[0m\n\u001b[0m\u001b[0;32m     14\u001b[0m \u001b[1;31m#print(predicted_train)\u001b[0m\u001b[1;33m\u001b[0m\u001b[1;33m\u001b[0m\u001b[0m\n\u001b[0;32m     15\u001b[0m \u001b[1;31m#print(test_data)\u001b[0m\u001b[1;33m\u001b[0m\u001b[1;33m\u001b[0m\u001b[0m\n",
      "\u001b[1;32mC:\\ProgramData\\Anaconda3\\lib\\site-packages\\sklearn\\naive_bayes.py\u001b[0m in \u001b[0;36mpredict\u001b[1;34m(self, X)\u001b[0m\n\u001b[0;32m     64\u001b[0m             \u001b[0mPredicted\u001b[0m \u001b[0mtarget\u001b[0m \u001b[0mvalues\u001b[0m \u001b[1;32mfor\u001b[0m \u001b[0mX\u001b[0m\u001b[1;33m\u001b[0m\u001b[0m\n\u001b[0;32m     65\u001b[0m         \"\"\"\n\u001b[1;32m---> 66\u001b[1;33m         \u001b[0mjll\u001b[0m \u001b[1;33m=\u001b[0m \u001b[0mself\u001b[0m\u001b[1;33m.\u001b[0m\u001b[0m_joint_log_likelihood\u001b[0m\u001b[1;33m(\u001b[0m\u001b[0mX\u001b[0m\u001b[1;33m)\u001b[0m\u001b[1;33m\u001b[0m\u001b[0m\n\u001b[0m\u001b[0;32m     67\u001b[0m         \u001b[1;32mreturn\u001b[0m \u001b[0mself\u001b[0m\u001b[1;33m.\u001b[0m\u001b[0mclasses_\u001b[0m\u001b[1;33m[\u001b[0m\u001b[0mnp\u001b[0m\u001b[1;33m.\u001b[0m\u001b[0margmax\u001b[0m\u001b[1;33m(\u001b[0m\u001b[0mjll\u001b[0m\u001b[1;33m,\u001b[0m \u001b[0maxis\u001b[0m\u001b[1;33m=\u001b[0m\u001b[1;36m1\u001b[0m\u001b[1;33m)\u001b[0m\u001b[1;33m]\u001b[0m\u001b[1;33m\u001b[0m\u001b[0m\n\u001b[0;32m     68\u001b[0m \u001b[1;33m\u001b[0m\u001b[0m\n",
      "\u001b[1;32mC:\\ProgramData\\Anaconda3\\lib\\site-packages\\sklearn\\naive_bayes.py\u001b[0m in \u001b[0;36m_joint_log_likelihood\u001b[1;34m(self, X)\u001b[0m\n\u001b[0;32m    723\u001b[0m \u001b[1;33m\u001b[0m\u001b[0m\n\u001b[0;32m    724\u001b[0m         \u001b[0mX\u001b[0m \u001b[1;33m=\u001b[0m \u001b[0mcheck_array\u001b[0m\u001b[1;33m(\u001b[0m\u001b[0mX\u001b[0m\u001b[1;33m,\u001b[0m \u001b[0maccept_sparse\u001b[0m\u001b[1;33m=\u001b[0m\u001b[1;34m'csr'\u001b[0m\u001b[1;33m)\u001b[0m\u001b[1;33m\u001b[0m\u001b[0m\n\u001b[1;32m--> 725\u001b[1;33m         return (safe_sparse_dot(X, self.feature_log_prob_.T) +\n\u001b[0m\u001b[0;32m    726\u001b[0m                 self.class_log_prior_)\n\u001b[0;32m    727\u001b[0m \u001b[1;33m\u001b[0m\u001b[0m\n",
      "\u001b[1;32mC:\\ProgramData\\Anaconda3\\lib\\site-packages\\sklearn\\utils\\extmath.py\u001b[0m in \u001b[0;36msafe_sparse_dot\u001b[1;34m(a, b, dense_output)\u001b[0m\n\u001b[0;32m    133\u001b[0m     \"\"\"\n\u001b[0;32m    134\u001b[0m     \u001b[1;32mif\u001b[0m \u001b[0missparse\u001b[0m\u001b[1;33m(\u001b[0m\u001b[0ma\u001b[0m\u001b[1;33m)\u001b[0m \u001b[1;32mor\u001b[0m \u001b[0missparse\u001b[0m\u001b[1;33m(\u001b[0m\u001b[0mb\u001b[0m\u001b[1;33m)\u001b[0m\u001b[1;33m:\u001b[0m\u001b[1;33m\u001b[0m\u001b[0m\n\u001b[1;32m--> 135\u001b[1;33m         \u001b[0mret\u001b[0m \u001b[1;33m=\u001b[0m \u001b[0ma\u001b[0m \u001b[1;33m*\u001b[0m \u001b[0mb\u001b[0m\u001b[1;33m\u001b[0m\u001b[0m\n\u001b[0m\u001b[0;32m    136\u001b[0m         \u001b[1;32mif\u001b[0m \u001b[0mdense_output\u001b[0m \u001b[1;32mand\u001b[0m \u001b[0mhasattr\u001b[0m\u001b[1;33m(\u001b[0m\u001b[0mret\u001b[0m\u001b[1;33m,\u001b[0m \u001b[1;34m\"toarray\"\u001b[0m\u001b[1;33m)\u001b[0m\u001b[1;33m:\u001b[0m\u001b[1;33m\u001b[0m\u001b[0m\n\u001b[0;32m    137\u001b[0m             \u001b[0mret\u001b[0m \u001b[1;33m=\u001b[0m \u001b[0mret\u001b[0m\u001b[1;33m.\u001b[0m\u001b[0mtoarray\u001b[0m\u001b[1;33m(\u001b[0m\u001b[1;33m)\u001b[0m\u001b[1;33m\u001b[0m\u001b[0m\n",
      "\u001b[1;32mC:\\ProgramData\\Anaconda3\\lib\\site-packages\\scipy\\sparse\\base.py\u001b[0m in \u001b[0;36m__mul__\u001b[1;34m(self, other)\u001b[0m\n\u001b[0;32m    513\u001b[0m \u001b[1;33m\u001b[0m\u001b[0m\n\u001b[0;32m    514\u001b[0m             \u001b[1;32mif\u001b[0m \u001b[0mother\u001b[0m\u001b[1;33m.\u001b[0m\u001b[0mshape\u001b[0m\u001b[1;33m[\u001b[0m\u001b[1;36m0\u001b[0m\u001b[1;33m]\u001b[0m \u001b[1;33m!=\u001b[0m \u001b[0mself\u001b[0m\u001b[1;33m.\u001b[0m\u001b[0mshape\u001b[0m\u001b[1;33m[\u001b[0m\u001b[1;36m1\u001b[0m\u001b[1;33m]\u001b[0m\u001b[1;33m:\u001b[0m\u001b[1;33m\u001b[0m\u001b[0m\n\u001b[1;32m--> 515\u001b[1;33m                 \u001b[1;32mraise\u001b[0m \u001b[0mValueError\u001b[0m\u001b[1;33m(\u001b[0m\u001b[1;34m'dimension mismatch'\u001b[0m\u001b[1;33m)\u001b[0m\u001b[1;33m\u001b[0m\u001b[0m\n\u001b[0m\u001b[0;32m    516\u001b[0m \u001b[1;33m\u001b[0m\u001b[0m\n\u001b[0;32m    517\u001b[0m             \u001b[0mresult\u001b[0m \u001b[1;33m=\u001b[0m \u001b[0mself\u001b[0m\u001b[1;33m.\u001b[0m\u001b[0m_mul_multivector\u001b[0m\u001b[1;33m(\u001b[0m\u001b[0mnp\u001b[0m\u001b[1;33m.\u001b[0m\u001b[0masarray\u001b[0m\u001b[1;33m(\u001b[0m\u001b[0mother\u001b[0m\u001b[1;33m)\u001b[0m\u001b[1;33m)\u001b[0m\u001b[1;33m\u001b[0m\u001b[0m\n",
      "\u001b[1;31mValueError\u001b[0m: dimension mismatch"
     ]
    }
   ],
   "source": [
    "import numpy as np\n",
    "from sklearn.naive_bayes import MultinomialNB\n",
    "\n",
    "clf = MultinomialNB()\n",
    "clf.fit(matrix, Y)\n",
    "\n",
    "# from sklearn.pipeline import Pipeline\n",
    "# from sklearn.feature_extraction.text import TfidfTransformer\n",
    "\n",
    "# text_clf = Pipeline([('vect', CountVectorizer()),('tfidf', TfidfTransformer()),('clf', MultinomialNB()),])\n",
    "# text_clf = text_clf.fit(X, Y)\n",
    "\n",
    "predicted_train = clf.predict(matrix_test)\n",
    "#print(predicted_train)\n",
    "#print(test_data)\n",
    "#np.mean(predicted == Y)"
   ]
  },
  {
   "cell_type": "code",
   "execution_count": null,
   "metadata": {},
   "outputs": [],
   "source": []
  }
 ],
 "metadata": {
  "kernelspec": {
   "display_name": "Python 3",
   "language": "python",
   "name": "python3"
  },
  "language_info": {
   "codemirror_mode": {
    "name": "ipython",
    "version": 3
   },
   "file_extension": ".py",
   "mimetype": "text/x-python",
   "name": "python",
   "nbconvert_exporter": "python",
   "pygments_lexer": "ipython3",
   "version": "3.7.0"
  }
 },
 "nbformat": 4,
 "nbformat_minor": 2
}
